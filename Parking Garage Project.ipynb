{
 "cells": [
  {
   "cell_type": "markdown",
   "metadata": {},
   "source": [
    "# Parking Garage Project\n",
    "\n",
    "Your assignment for today is to create a parking garage class to get more familiar with Object Oriented Programming(OOP). \n",
    "\n",
    "Your parking gargage class should have the following methods:\n",
    "- takeTicket\n",
    "   - This should decrease the amount of tickets available by 1\n",
    "   - This should decrease the amount of parkingSpaces available by 1\n",
    "- payForParking\n",
    "   - Display an input that waits for an amount from the user and store it in a variable\n",
    "   - If the payment variable is not empty then ->  display a message to the user that their ticket has been paid and they have 15mins to leave\n",
    "   - This should update the \"currentTicket\" dictionary key \"paid\" to True\n",
    "-leaveGarage\n",
    "   - If the ticket has been paid, display a message of \"Thank You, have a nice day\"\n",
    "   - If the ticket has not been paid, display an input prompt for payment\n",
    "      - Once paid, display message \"Thank you, have a nice day!\"\n",
    "   - Update parkingSpaces list to increase by 1\n",
    "   - Update tickets list to increase by 1\n",
    "\n",
    "You will need a few attributes as well:\n",
    "- tickets -> list\n",
    "- parkingSpaces -> list\n",
    "- currentTicket -> dictionary"
   ]
  },
  {
   "cell_type": "code",
   "execution_count": null,
   "metadata": {},
   "outputs": [],
   "source": [
    "class Parking_garage:\n",
    "\n",
    "    def __init__(self, tickets, parkingSpaces, currentTicket = {}):\n",
    "        self.tickets = tickets\n",
    "        self.parkingSpaces = parkingSpaces\n",
    "        self.currentTicket = currentTicket\n",
    "\n",
    "    def takeTicket(self):\n",
    "        tickets = []\n",
    "        parkingSpaces = []\n",
    "        for ticket in tickets:\n",
    "            if tickets == [0]:\n",
    "                tickets + 1        \n",
    "            elif parkingSpaces != 0:\n",
    "                parkingSpaces - 1\n",
    "            else:\n",
    "                print('There are no parking spaces left')\n",
    "        \n",
    "\n",
    "    def payForParking(self):\n",
    "        response = int(input('Please enter the 10 dollar amount that you owe'))\n",
    "        fee = {10}\n",
    "        tickets = []\n",
    "        currentTicket = {'paid': False}\n",
    "        newTicket = {'paid' : True}    \n",
    "        if response in fee:\n",
    "            print('Your ticket has been paid.')\n",
    "            currentTicket.update(newTicket)\n",
    "            print(currentTicket)\n",
    "        elif response != 10:\n",
    "            print('Your ticket has NOT been paid. Please pay the 10 dollar fee')\n",
    "            print(currentTicket)\n",
    "                 \n",
    "\n",
    "    def leaveGarage(self):\n",
    "        currentTicket = {'paid': True}\n",
    "        parkingSpaces = 0\n",
    "        tickets = []\n",
    "        for ticket in currentTicket:\n",
    "            if currentTicket == {'paid': True}: \n",
    "                print('Thank you, have a nice day. You have 15 minutes to leave the garage')\n",
    "            if currentTicket == {'paid': True}:\n",
    "                parkingSpaces += 1\n",
    "            elif currentTicket == {'paid': True}:\n",
    "                tickets -= 1\n",
    "            else:\n",
    "                input('Please enter the 10 dollar amount that you owe')\n",
    "        \n",
    "        return tickets, parkingSpaces\n",
    "        \n",
    "my_car = Parking_garage(1, 1, False)\n",
    "my_car.takeTicket()\n",
    "my_car.payForParking()\n",
    "my_car.leaveGarage()"
   ]
  },
  {
   "cell_type": "code",
   "execution_count": null,
   "metadata": {},
   "outputs": [],
   "source": [
    "your_car = Parking_garage(1, 1, False)\n",
    "your_car.takeTicket()\n",
    "your_car.payForParking()\n",
    "your_car.leaveGarage()"
   ]
  }
 ],
 "metadata": {
  "kernelspec": {
   "display_name": "Python 3 (ipykernel)",
   "language": "python",
   "name": "python3"
  },
  "language_info": {
   "codemirror_mode": {
    "name": "ipython",
    "version": 3
   },
   "file_extension": ".py",
   "mimetype": "text/x-python",
   "name": "python",
   "nbconvert_exporter": "python",
   "pygments_lexer": "ipython3",
   "version": "3.11.7"
  }
 },
 "nbformat": 4,
 "nbformat_minor": 4
}
